{
 "cells": [
  {
   "cell_type": "markdown",
   "id": "6598de08",
   "metadata": {
    "toc": true
   },
   "source": [
    "<h1>Оглавление<span class=\"tocSkip\"></span></h1>\n",
    "<div class=\"toc\"><ul class=\"toc-item\"><li><span><a href=\"#1-Введение\" data-toc-modified-id=\"1-Введение-1\">1 Введение</a></span><ul class=\"toc-item\"><li><span><a href=\"#1.1-Клиент\" data-toc-modified-id=\"1.1-Клиент-1.1\">1.1 Клиент</a></span></li><li><span><a href=\"#1.2-Цель\" data-toc-modified-id=\"1.2-Цель-1.2\">1.2 Цель</a></span></li><li><span><a href=\"#1.3-Планируемые-этапы-исследования\" data-toc-modified-id=\"1.3-Планируемые-этапы-исследования-1.3\">1.3 Планируемые этапы исследования</a></span></li></ul></li><li><span><a href=\"#2-Подготовка-данных\" data-toc-modified-id=\"2-Подготовка-данных-2\">2 Подготовка данных</a></span><ul class=\"toc-item\"><li><span><a href=\"#2.1-Описание-данных\" data-toc-modified-id=\"2.1-Описание-данных-2.1\">2.1 Описание данных</a></span></li><li><span><a href=\"#2.2-Подключение-к-базе-данных\" data-toc-modified-id=\"2.2-Подключение-к-базе-данных-2.2\">2.2 Подключение к базе данных</a></span></li></ul></li><li><span><a href=\"#3-Исследование-таблиц\" data-toc-modified-id=\"3-Исследование-таблиц-3\">3 Исследование таблиц</a></span><ul class=\"toc-item\"><li><span><a href=\"#3.1-Количество-вышедших-книг-после-1-января-2000-года\" data-toc-modified-id=\"3.1-Количество-вышедших-книг-после-1-января-2000-года-3.1\">3.1 Количество вышедших книг после 1 января 2000 года</a></span></li><li><span><a href=\"#3.2-Количество-обзоров-и-средняя-оценка-для-каждой-книги\" data-toc-modified-id=\"3.2-Количество-обзоров-и-средняя-оценка-для-каждой-книги-3.2\">3.2 Количество обзоров и средняя оценка для каждой книги</a></span></li><li><span><a href=\"#3.3-Издательство,-выпустившее-наибольшее-число-книг-толще-50-страниц(исключаются-брошюры)\" data-toc-modified-id=\"3.3-Издательство,-выпустившее-наибольшее-число-книг-толще-50-страниц(исключаются-брошюры)-3.3\">3.3 Издательство, выпустившее наибольшее число книг толще 50 страниц(исключаются брошюры)</a></span></li><li><span><a href=\"#3.4-Автор-с-самой-высокой-средней-оценкой-книг(c-50-и-более-оценками)\" data-toc-modified-id=\"3.4-Автор-с-самой-высокой-средней-оценкой-книг(c-50-и-более-оценками)-3.4\">3.4 Автор с самой высокой средней оценкой книг(c 50 и более оценками)</a></span></li><li><span><a href=\"#3.5-Среднее-количество-обзоров-от-пользователей,-которые-поставили-больше-50-оценок\" data-toc-modified-id=\"3.5-Среднее-количество-обзоров-от-пользователей,-которые-поставили-больше-50-оценок-3.5\">3.5 Среднее количество обзоров от пользователей, которые поставили больше 50 оценок</a></span></li></ul></li><li><span><a href=\"#4-Выводы\" data-toc-modified-id=\"4-Выводы-4\">4 Выводы</a></span></li></ul></div>"
   ]
  },
  {
   "cell_type": "markdown",
   "id": "3e5fb9f1",
   "metadata": {},
   "source": [
    "# Проект: Анализ данных сервиса для чтения книг(SQL)"
   ]
  },
  {
   "cell_type": "markdown",
   "id": "8655b60f",
   "metadata": {},
   "source": [
    "## 1 Введение"
   ]
  },
  {
   "cell_type": "markdown",
   "id": "f5135c01",
   "metadata": {},
   "source": [
    "### 1.1 Клиент\n",
    "\n",
    "Сервис для чтения книг по подписке"
   ]
  },
  {
   "cell_type": "markdown",
   "id": "5e69f8a1",
   "metadata": {},
   "source": [
    "### 1.2 Цель\n",
    "\n",
    "Выполнить анализ данных, согласно заданию:\n",
    "- Посчитайте, сколько книг вышло после 1 января 2000 года\n",
    "- Для каждой книги посчитайте количество обзоров и среднюю оценку\n",
    "- Определите издательство, которое выпустило наибольшее число книг толще 50 страниц — так вы исключите из анализа брошюры\n",
    "- Определите автора с самой высокой средней оценкой книг — учитывайте только книги с 50 и более оценками\n",
    "- Посчитайте среднее количество обзоров от пользователей, которые поставили больше 50 оценок"
   ]
  },
  {
   "cell_type": "markdown",
   "id": "5dd1a79f",
   "metadata": {},
   "source": [
    "### 1.3 Планируемые этапы исследования\n",
    "\n",
    "- Подключение к БД\n",
    "- Анализ схемы БД и таблиц\n",
    "- Написание запросов по поставленным задачам\n",
    "- Написание выводов\n",
    "\n"
   ]
  },
  {
   "cell_type": "markdown",
   "id": "aec727eb",
   "metadata": {},
   "source": [
    "## 2 Подготовка данных"
   ]
  },
  {
   "cell_type": "markdown",
   "id": "c314660d",
   "metadata": {},
   "source": [
    "### 2.1 Описание данных"
   ]
  },
  {
   "cell_type": "markdown",
   "id": "fa677538",
   "metadata": {},
   "source": [
    "**Таблица `books`**\n",
    "\n",
    "Содержит данные о книгах:\n",
    "\n",
    "- `book_id` — идентификатор книги;\n",
    "- `author_id` — идентификатор автора;\n",
    "- `title` — название книги;\n",
    "- `num_pages` — количество страниц;\n",
    "- `publication_date` — дата публикации книги;\n",
    "- `publisher_id` — идентификатор издателя.\n",
    "\n",
    "**Таблица `authors`**\n",
    "\n",
    "Содержит данные об авторах:\n",
    "\n",
    "- `author_id` — идентификатор автора;\n",
    "- `author` — имя автора.\n",
    "\n",
    "**Таблица `publishers`**\n",
    "\n",
    "Содержит данные об издательствах:\n",
    "\n",
    "- `publisher_id` — идентификатор издательства;\n",
    "- `publisher` — название издательства;\n",
    "\n",
    "**Таблица `ratings`**\n",
    "\n",
    "Содержит данные о пользовательских оценках книг:\n",
    "\n",
    "- `rating_id` — идентификатор оценки;\n",
    "- `book_id` — идентификатор книги;\n",
    "- `username` — имя пользователя, оставившего оценку;\n",
    "- `rating` — оценка книги.\n",
    "\n",
    "**Таблица `reviews`**\n",
    "\n",
    "Содержит данные о пользовательских обзорах на книги:\n",
    "\n",
    "- `review_id` — идентификатор обзора;\n",
    "- `book_id` — идентификатор книги;\n",
    "- `username` — имя пользователя, написавшего обзор;\n",
    "- `text` — текст обзора."
   ]
  },
  {
   "cell_type": "markdown",
   "id": "1fa20234",
   "metadata": {},
   "source": [
    "![structure](https://i.ibb.co/PhKF9fJ/Untitled-33.png)"
   ]
  },
  {
   "cell_type": "markdown",
   "id": "f394d923",
   "metadata": {},
   "source": [
    "### 2.2 Подключение к базе данных"
   ]
  },
  {
   "cell_type": "code",
   "execution_count": 1,
   "id": "40874d74",
   "metadata": {},
   "outputs": [],
   "source": [
    "# импортируем библиотеки\n",
    "\n",
    "import pandas as pd \n",
    "from sqlalchemy import create_engine \n",
    "\n",
    "\n",
    "# устанавливаем параметры\n",
    "\n",
    "db_config = {'user': 'praktikum_student', # имя пользователя\n",
    "            'pwd': 'Sdf4$2;d-d30pp', # пароль\n",
    "            'host': 'rc1b-wcoijxj3yxfsf3fs.mdb.yandexcloud.net', \n",
    "            'port': 6432, # порт подключения\n",
    "            'db': 'data-analyst-final-project-db'} # название базы данных\n",
    "\n",
    "connection_string = 'postgresql://{}:{}@{}:{}/{}'.format(db_config['user'], \n",
    "                                                         db_config['pwd'], \n",
    "                                                         db_config['host'], \n",
    "                                                         db_config['port'], \n",
    "                                                         db_config['db'])\n",
    "\n",
    "# сохраняем коннектор\n",
    "\n",
    "engine = create_engine(connection_string, connect_args={'sslmode':'require'})"
   ]
  },
  {
   "cell_type": "code",
   "execution_count": 21,
   "id": "c4b805bb",
   "metadata": {},
   "outputs": [
    {
     "data": {
      "text/html": [
       "<div>\n",
       "<style scoped>\n",
       "    .dataframe tbody tr th:only-of-type {\n",
       "        vertical-align: middle;\n",
       "    }\n",
       "\n",
       "    .dataframe tbody tr th {\n",
       "        vertical-align: top;\n",
       "    }\n",
       "\n",
       "    .dataframe thead th {\n",
       "        text-align: right;\n",
       "    }\n",
       "</style>\n",
       "<table border=\"1\" class=\"dataframe\">\n",
       "  <thead>\n",
       "    <tr style=\"text-align: right;\">\n",
       "      <th></th>\n",
       "      <th>column_name</th>\n",
       "      <th>data_type</th>\n",
       "    </tr>\n",
       "  </thead>\n",
       "  <tbody>\n",
       "    <tr>\n",
       "      <th>0</th>\n",
       "      <td>book_id</td>\n",
       "      <td>integer</td>\n",
       "    </tr>\n",
       "    <tr>\n",
       "      <th>1</th>\n",
       "      <td>author_id</td>\n",
       "      <td>integer</td>\n",
       "    </tr>\n",
       "    <tr>\n",
       "      <th>2</th>\n",
       "      <td>title</td>\n",
       "      <td>text</td>\n",
       "    </tr>\n",
       "    <tr>\n",
       "      <th>3</th>\n",
       "      <td>num_pages</td>\n",
       "      <td>integer</td>\n",
       "    </tr>\n",
       "    <tr>\n",
       "      <th>4</th>\n",
       "      <td>publication_date</td>\n",
       "      <td>date</td>\n",
       "    </tr>\n",
       "    <tr>\n",
       "      <th>5</th>\n",
       "      <td>publisher_id</td>\n",
       "      <td>integer</td>\n",
       "    </tr>\n",
       "  </tbody>\n",
       "</table>\n",
       "</div>"
      ],
      "text/plain": [
       "        column_name data_type\n",
       "0           book_id   integer\n",
       "1         author_id   integer\n",
       "2             title      text\n",
       "3         num_pages   integer\n",
       "4  publication_date      date\n",
       "5      publisher_id   integer"
      ]
     },
     "execution_count": 21,
     "metadata": {},
     "output_type": "execute_result"
    }
   ],
   "source": [
    "# Информация о типе данных\n",
    "\n",
    "query = '''\n",
    "\n",
    "SELECT\n",
    "  COLUMN_NAME, DATA_TYPE \n",
    "FROM\n",
    "  INFORMATION_SCHEMA.COLUMNS \n",
    "WHERE\n",
    "  TABLE_NAME = 'books'\n",
    "\n",
    ";\n",
    "\n",
    "'''\n",
    "\n",
    "pd.io.sql.read_sql(query, con = engine)"
   ]
  },
  {
   "cell_type": "markdown",
   "id": "9b13909f",
   "metadata": {},
   "source": [
    "## 3 Исследование таблиц"
   ]
  },
  {
   "cell_type": "markdown",
   "id": "fd956e29",
   "metadata": {},
   "source": [
    "### 3.1 Количество вышедших книг после 1 января 2000 года"
   ]
  },
  {
   "cell_type": "code",
   "execution_count": 2,
   "id": "9b98344e",
   "metadata": {},
   "outputs": [
    {
     "data": {
      "text/html": [
       "<div>\n",
       "<style scoped>\n",
       "    .dataframe tbody tr th:only-of-type {\n",
       "        vertical-align: middle;\n",
       "    }\n",
       "\n",
       "    .dataframe tbody tr th {\n",
       "        vertical-align: top;\n",
       "    }\n",
       "\n",
       "    .dataframe thead th {\n",
       "        text-align: right;\n",
       "    }\n",
       "</style>\n",
       "<table border=\"1\" class=\"dataframe\">\n",
       "  <thead>\n",
       "    <tr style=\"text-align: right;\">\n",
       "      <th></th>\n",
       "      <th>count</th>\n",
       "    </tr>\n",
       "  </thead>\n",
       "  <tbody>\n",
       "    <tr>\n",
       "      <th>0</th>\n",
       "      <td>821</td>\n",
       "    </tr>\n",
       "  </tbody>\n",
       "</table>\n",
       "</div>"
      ],
      "text/plain": [
       "   count\n",
       "0    821"
      ]
     },
     "execution_count": 2,
     "metadata": {},
     "output_type": "execute_result"
    }
   ],
   "source": [
    "query = '''\n",
    "\n",
    "select count(book_id)\n",
    "\n",
    "from books \n",
    "WHERE EXTRACT(YEAR FROM CAST(publication_date AS DATE)) >= 2000\n",
    ";\n",
    "\n",
    "'''\n",
    "\n",
    "pd.io.sql.read_sql(query, con = engine)"
   ]
  },
  {
   "cell_type": "markdown",
   "id": "1628532d",
   "metadata": {},
   "source": [
    "- Количество книг вышедших после 1 января 2000: 821"
   ]
  },
  {
   "cell_type": "markdown",
   "id": "a7af4a4c",
   "metadata": {},
   "source": [
    "### 3.2 Количество обзоров и средняя оценка для каждой книги"
   ]
  },
  {
   "cell_type": "code",
   "execution_count": 3,
   "id": "1104c786",
   "metadata": {},
   "outputs": [
    {
     "data": {
      "text/html": [
       "<div>\n",
       "<style scoped>\n",
       "    .dataframe tbody tr th:only-of-type {\n",
       "        vertical-align: middle;\n",
       "    }\n",
       "\n",
       "    .dataframe tbody tr th {\n",
       "        vertical-align: top;\n",
       "    }\n",
       "\n",
       "    .dataframe thead th {\n",
       "        text-align: right;\n",
       "    }\n",
       "</style>\n",
       "<table border=\"1\" class=\"dataframe\">\n",
       "  <thead>\n",
       "    <tr style=\"text-align: right;\">\n",
       "      <th></th>\n",
       "      <th>title</th>\n",
       "      <th>avg_rating</th>\n",
       "      <th>reviews_count</th>\n",
       "    </tr>\n",
       "  </thead>\n",
       "  <tbody>\n",
       "    <tr>\n",
       "      <th>0</th>\n",
       "      <td>Arrows of the Queen (Heralds of Valdemar  #1)</td>\n",
       "      <td>5.00</td>\n",
       "      <td>2</td>\n",
       "    </tr>\n",
       "    <tr>\n",
       "      <th>1</th>\n",
       "      <td>The Walking Dead  Book One (The Walking Dead #...</td>\n",
       "      <td>5.00</td>\n",
       "      <td>2</td>\n",
       "    </tr>\n",
       "    <tr>\n",
       "      <th>2</th>\n",
       "      <td>Light in August</td>\n",
       "      <td>5.00</td>\n",
       "      <td>2</td>\n",
       "    </tr>\n",
       "    <tr>\n",
       "      <th>3</th>\n",
       "      <td>Wherever You Go  There You Are: Mindfulness Me...</td>\n",
       "      <td>5.00</td>\n",
       "      <td>2</td>\n",
       "    </tr>\n",
       "    <tr>\n",
       "      <th>4</th>\n",
       "      <td>Captivating: Unveiling the Mystery of a Woman'...</td>\n",
       "      <td>5.00</td>\n",
       "      <td>2</td>\n",
       "    </tr>\n",
       "    <tr>\n",
       "      <th>...</th>\n",
       "      <td>...</td>\n",
       "      <td>...</td>\n",
       "      <td>...</td>\n",
       "    </tr>\n",
       "    <tr>\n",
       "      <th>995</th>\n",
       "      <td>The World Is Flat: A Brief History of the Twen...</td>\n",
       "      <td>2.25</td>\n",
       "      <td>3</td>\n",
       "    </tr>\n",
       "    <tr>\n",
       "      <th>996</th>\n",
       "      <td>His Excellency: George Washington</td>\n",
       "      <td>2.00</td>\n",
       "      <td>2</td>\n",
       "    </tr>\n",
       "    <tr>\n",
       "      <th>997</th>\n",
       "      <td>Drowning Ruth</td>\n",
       "      <td>2.00</td>\n",
       "      <td>3</td>\n",
       "    </tr>\n",
       "    <tr>\n",
       "      <th>998</th>\n",
       "      <td>Junky</td>\n",
       "      <td>2.00</td>\n",
       "      <td>2</td>\n",
       "    </tr>\n",
       "    <tr>\n",
       "      <th>999</th>\n",
       "      <td>Harvesting the Heart</td>\n",
       "      <td>1.50</td>\n",
       "      <td>2</td>\n",
       "    </tr>\n",
       "  </tbody>\n",
       "</table>\n",
       "<p>1000 rows × 3 columns</p>\n",
       "</div>"
      ],
      "text/plain": [
       "                                                 title  avg_rating  \\\n",
       "0        Arrows of the Queen (Heralds of Valdemar  #1)        5.00   \n",
       "1    The Walking Dead  Book One (The Walking Dead #...        5.00   \n",
       "2                                      Light in August        5.00   \n",
       "3    Wherever You Go  There You Are: Mindfulness Me...        5.00   \n",
       "4    Captivating: Unveiling the Mystery of a Woman'...        5.00   \n",
       "..                                                 ...         ...   \n",
       "995  The World Is Flat: A Brief History of the Twen...        2.25   \n",
       "996                  His Excellency: George Washington        2.00   \n",
       "997                                      Drowning Ruth        2.00   \n",
       "998                                              Junky        2.00   \n",
       "999                               Harvesting the Heart        1.50   \n",
       "\n",
       "     reviews_count  \n",
       "0                2  \n",
       "1                2  \n",
       "2                2  \n",
       "3                2  \n",
       "4                2  \n",
       "..             ...  \n",
       "995              3  \n",
       "996              2  \n",
       "997              3  \n",
       "998              2  \n",
       "999              2  \n",
       "\n",
       "[1000 rows x 3 columns]"
      ]
     },
     "execution_count": 3,
     "metadata": {},
     "output_type": "execute_result"
    }
   ],
   "source": [
    "query = '''\n",
    "\n",
    "select b.title,\n",
    "        avg(rt.rating) avg_rating,\n",
    "        count(distinct(rw.text)) reviews_count\n",
    "\n",
    "from books as b\n",
    "left join ratings as rt on rt.book_id = b.book_id\n",
    "left join reviews as rw on rw.book_id = b.book_id\n",
    "group by b.book_id\n",
    "order by avg(rt.rating) DESC\n",
    "-- order by count(distinct(rw.text)) DESC\n",
    "\n",
    ";\n",
    "\n",
    "'''\n",
    "\n",
    "pd.io.sql.read_sql(query, con = engine)"
   ]
  },
  {
   "cell_type": "code",
   "execution_count": 4,
   "id": "30b4734a",
   "metadata": {},
   "outputs": [
    {
     "data": {
      "text/html": [
       "<div>\n",
       "<style scoped>\n",
       "    .dataframe tbody tr th:only-of-type {\n",
       "        vertical-align: middle;\n",
       "    }\n",
       "\n",
       "    .dataframe tbody tr th {\n",
       "        vertical-align: top;\n",
       "    }\n",
       "\n",
       "    .dataframe thead th {\n",
       "        text-align: right;\n",
       "    }\n",
       "</style>\n",
       "<table border=\"1\" class=\"dataframe\">\n",
       "  <thead>\n",
       "    <tr style=\"text-align: right;\">\n",
       "      <th></th>\n",
       "      <th>avg_rating_all</th>\n",
       "      <th>avg_reviews_all</th>\n",
       "    </tr>\n",
       "  </thead>\n",
       "  <tbody>\n",
       "    <tr>\n",
       "      <th>0</th>\n",
       "      <td>3.898973</td>\n",
       "      <td>2.793</td>\n",
       "    </tr>\n",
       "  </tbody>\n",
       "</table>\n",
       "</div>"
      ],
      "text/plain": [
       "   avg_rating_all  avg_reviews_all\n",
       "0        3.898973            2.793"
      ]
     },
     "execution_count": 4,
     "metadata": {},
     "output_type": "execute_result"
    }
   ],
   "source": [
    "query = '''\n",
    "\n",
    "select avg(avg_rating) avg_rating_all,\n",
    "        avg(reviews_count) avg_reviews_all\n",
    "\n",
    "from\n",
    "(\n",
    "select b.title,\n",
    "        avg(rt.rating) avg_rating,\n",
    "        count(distinct(rw.text)) reviews_count\n",
    "\n",
    "from books as b\n",
    "left join ratings as rt on rt.book_id = b.book_id\n",
    "left join reviews as rw on rw.book_id = b.book_id\n",
    "group by b.book_id\n",
    "\n",
    ") a1\n",
    "\n",
    ";\n",
    "\n",
    "'''\n",
    "\n",
    "pd.io.sql.read_sql(query, con = engine)"
   ]
  },
  {
   "cell_type": "markdown",
   "id": "48599caa",
   "metadata": {},
   "source": [
    "Количество отзывов:\n",
    "- Максимально: 7\n",
    "- Минимально: 0\n",
    "- Среднее количество отзывов на книгу: 2.8\n",
    "\n",
    "\n",
    "Рейтинг:\n",
    "- Максимальный: 5\n",
    "- Минимальный: 1.5\n",
    "- Средняя оценка книг: 3.9"
   ]
  },
  {
   "cell_type": "markdown",
   "id": "d1aa442c",
   "metadata": {},
   "source": [
    "### 3.3 Издательство, выпустившее наибольшее число книг толще 50 страниц(исключаются брошюры)"
   ]
  },
  {
   "cell_type": "code",
   "execution_count": 5,
   "id": "9ab41671",
   "metadata": {},
   "outputs": [
    {
     "data": {
      "text/html": [
       "<div>\n",
       "<style scoped>\n",
       "    .dataframe tbody tr th:only-of-type {\n",
       "        vertical-align: middle;\n",
       "    }\n",
       "\n",
       "    .dataframe tbody tr th {\n",
       "        vertical-align: top;\n",
       "    }\n",
       "\n",
       "    .dataframe thead th {\n",
       "        text-align: right;\n",
       "    }\n",
       "</style>\n",
       "<table border=\"1\" class=\"dataframe\">\n",
       "  <thead>\n",
       "    <tr style=\"text-align: right;\">\n",
       "      <th></th>\n",
       "      <th>publisher</th>\n",
       "      <th>count</th>\n",
       "    </tr>\n",
       "  </thead>\n",
       "  <tbody>\n",
       "    <tr>\n",
       "      <th>0</th>\n",
       "      <td>Penguin Books</td>\n",
       "      <td>42</td>\n",
       "    </tr>\n",
       "  </tbody>\n",
       "</table>\n",
       "</div>"
      ],
      "text/plain": [
       "       publisher  count\n",
       "0  Penguin Books     42"
      ]
     },
     "execution_count": 5,
     "metadata": {},
     "output_type": "execute_result"
    }
   ],
   "source": [
    "query = '''\n",
    "\n",
    "select publisher,\n",
    "        count(book_id)\n",
    "        \n",
    "from books as b\n",
    "left join publishers as p on p.publisher_id = b.publisher_id\n",
    "where num_pages >50\n",
    "group by publisher\n",
    "order by count(book_id) DESC\n",
    "limit 1\n",
    "\n",
    "'''\n",
    "\n",
    "pd.io.sql.read_sql(query, con = engine)"
   ]
  },
  {
   "cell_type": "markdown",
   "id": "16ad82a6",
   "metadata": {},
   "source": [
    "- Издательство выпустившее максимальное количество книг(от 50 страниц): Penguin Books, 42"
   ]
  },
  {
   "cell_type": "markdown",
   "id": "4701e754",
   "metadata": {},
   "source": [
    "### 3.4 Автор с самой высокой средней оценкой книг(c 50 и более оценками)"
   ]
  },
  {
   "cell_type": "code",
   "execution_count": 6,
   "id": "fe689cc7",
   "metadata": {},
   "outputs": [
    {
     "data": {
      "text/html": [
       "<div>\n",
       "<style scoped>\n",
       "    .dataframe tbody tr th:only-of-type {\n",
       "        vertical-align: middle;\n",
       "    }\n",
       "\n",
       "    .dataframe tbody tr th {\n",
       "        vertical-align: top;\n",
       "    }\n",
       "\n",
       "    .dataframe thead th {\n",
       "        text-align: right;\n",
       "    }\n",
       "</style>\n",
       "<table border=\"1\" class=\"dataframe\">\n",
       "  <thead>\n",
       "    <tr style=\"text-align: right;\">\n",
       "      <th></th>\n",
       "      <th>author</th>\n",
       "      <th>avg</th>\n",
       "    </tr>\n",
       "  </thead>\n",
       "  <tbody>\n",
       "    <tr>\n",
       "      <th>0</th>\n",
       "      <td>J.K. Rowling/Mary GrandPré</td>\n",
       "      <td>4.283844</td>\n",
       "    </tr>\n",
       "    <tr>\n",
       "      <th>1</th>\n",
       "      <td>Dan Brown</td>\n",
       "      <td>3.754540</td>\n",
       "    </tr>\n",
       "    <tr>\n",
       "      <th>2</th>\n",
       "      <td>J.D. Salinger</td>\n",
       "      <td>3.825581</td>\n",
       "    </tr>\n",
       "    <tr>\n",
       "      <th>3</th>\n",
       "      <td>William Golding</td>\n",
       "      <td>3.901408</td>\n",
       "    </tr>\n",
       "    <tr>\n",
       "      <th>4</th>\n",
       "      <td>Louisa May Alcott</td>\n",
       "      <td>4.192308</td>\n",
       "    </tr>\n",
       "    <tr>\n",
       "      <th>5</th>\n",
       "      <td>Paulo Coelho/Alan R. Clarke/Özdemir İnce</td>\n",
       "      <td>3.789474</td>\n",
       "    </tr>\n",
       "    <tr>\n",
       "      <th>6</th>\n",
       "      <td>Stephenie Meyer</td>\n",
       "      <td>3.662500</td>\n",
       "    </tr>\n",
       "    <tr>\n",
       "      <th>7</th>\n",
       "      <td>William Shakespeare/Paul Werstine/Barbara A. M...</td>\n",
       "      <td>3.787879</td>\n",
       "    </tr>\n",
       "    <tr>\n",
       "      <th>8</th>\n",
       "      <td>Rick Riordan</td>\n",
       "      <td>4.080645</td>\n",
       "    </tr>\n",
       "    <tr>\n",
       "      <th>9</th>\n",
       "      <td>George Orwell/Boris Grabnar/Peter Škerl</td>\n",
       "      <td>3.729730</td>\n",
       "    </tr>\n",
       "    <tr>\n",
       "      <th>10</th>\n",
       "      <td>John Steinbeck</td>\n",
       "      <td>3.622951</td>\n",
       "    </tr>\n",
       "    <tr>\n",
       "      <th>11</th>\n",
       "      <td>J.R.R. Tolkien</td>\n",
       "      <td>4.258446</td>\n",
       "    </tr>\n",
       "    <tr>\n",
       "      <th>12</th>\n",
       "      <td>Lois Lowry</td>\n",
       "      <td>3.750000</td>\n",
       "    </tr>\n",
       "    <tr>\n",
       "      <th>13</th>\n",
       "      <td>Markus Zusak/Cao Xuân Việt Khương</td>\n",
       "      <td>4.264151</td>\n",
       "    </tr>\n",
       "  </tbody>\n",
       "</table>\n",
       "</div>"
      ],
      "text/plain": [
       "                                               author       avg\n",
       "0                          J.K. Rowling/Mary GrandPré  4.283844\n",
       "1                                           Dan Brown  3.754540\n",
       "2                                       J.D. Salinger  3.825581\n",
       "3                                     William Golding  3.901408\n",
       "4                                   Louisa May Alcott  4.192308\n",
       "5            Paulo Coelho/Alan R. Clarke/Özdemir İnce  3.789474\n",
       "6                                     Stephenie Meyer  3.662500\n",
       "7   William Shakespeare/Paul Werstine/Barbara A. M...  3.787879\n",
       "8                                        Rick Riordan  4.080645\n",
       "9             George Orwell/Boris Grabnar/Peter Škerl  3.729730\n",
       "10                                     John Steinbeck  3.622951\n",
       "11                                     J.R.R. Tolkien  4.258446\n",
       "12                                         Lois Lowry  3.750000\n",
       "13                  Markus Zusak/Cao Xuân Việt Khương  4.264151"
      ]
     },
     "execution_count": 6,
     "metadata": {},
     "output_type": "execute_result"
    }
   ],
   "source": [
    "query = '''\n",
    "\n",
    "with\n",
    "a1 as\n",
    "(\n",
    "select at.author,\n",
    "        avg(rt.rating),\n",
    "        count(rt.rating)\n",
    "\n",
    "from books as b\n",
    "left join ratings as rt on rt.book_id = b.book_id\n",
    "left join authors as at on at.author_id = b.author_id\n",
    "group by at.author, b.book_id\n",
    "having count(rt.rating) >= 50\n",
    "order by avg(rt.rating) DESC\n",
    ")\n",
    "\n",
    "select author,\n",
    "        avg(avg)\n",
    "        \n",
    "from a1\n",
    "group by author\n",
    "\n",
    ";\n",
    "\n",
    "'''\n",
    "\n",
    "pd.io.sql.read_sql(query, con = engine)"
   ]
  },
  {
   "cell_type": "markdown",
   "id": "a34a2eaf",
   "metadata": {},
   "source": [
    "- Автор с самой высокой средней оценкой книг(c 50 и более оценками): J.K. Rowling/Mary GrandPré\t, 4.28"
   ]
  },
  {
   "cell_type": "markdown",
   "id": "9f2d35c7",
   "metadata": {},
   "source": [
    "### 3.5 Среднее количество обзоров от пользователей, которые поставили больше 50 оценок"
   ]
  },
  {
   "cell_type": "code",
   "execution_count": 7,
   "id": "afef3e5d",
   "metadata": {},
   "outputs": [
    {
     "data": {
      "text/html": [
       "<div>\n",
       "<style scoped>\n",
       "    .dataframe tbody tr th:only-of-type {\n",
       "        vertical-align: middle;\n",
       "    }\n",
       "\n",
       "    .dataframe tbody tr th {\n",
       "        vertical-align: top;\n",
       "    }\n",
       "\n",
       "    .dataframe thead th {\n",
       "        text-align: right;\n",
       "    }\n",
       "</style>\n",
       "<table border=\"1\" class=\"dataframe\">\n",
       "  <thead>\n",
       "    <tr style=\"text-align: right;\">\n",
       "      <th></th>\n",
       "      <th>avg</th>\n",
       "    </tr>\n",
       "  </thead>\n",
       "  <tbody>\n",
       "    <tr>\n",
       "      <th>0</th>\n",
       "      <td>24.222222</td>\n",
       "    </tr>\n",
       "  </tbody>\n",
       "</table>\n",
       "</div>"
      ],
      "text/plain": [
       "         avg\n",
       "0  24.222222"
      ]
     },
     "execution_count": 7,
     "metadata": {},
     "output_type": "execute_result"
    }
   ],
   "source": [
    "query = '''\n",
    "\n",
    "with\n",
    "a2 as\n",
    "(\n",
    "with\n",
    "a1 as\n",
    "(\n",
    "select username\n",
    "--        count(rating)\n",
    "\n",
    "from ratings \n",
    "group by username\n",
    "having count(rating) >= 50\n",
    "order by count(rating) desc\n",
    ") \n",
    "\n",
    "select rw.username,\n",
    "       count(text)\n",
    "\n",
    "from reviews as rw\n",
    "join a1 on rw.username = a1.username\n",
    "\n",
    "group by rw.username\n",
    "order by rw.username\n",
    ")\n",
    "\n",
    "select avg(count)\n",
    "from a2\n",
    "\n",
    "\n",
    ";\n",
    "\n",
    "'''\n",
    "\n",
    "pd.io.sql.read_sql(query, con = engine)"
   ]
  },
  {
   "cell_type": "markdown",
   "id": "3a8fcb73",
   "metadata": {},
   "source": [
    "- Среднее количество обзоров от пользователей, которые поставили больше 50 оценок: 24.22"
   ]
  },
  {
   "cell_type": "markdown",
   "id": "eef9ef03",
   "metadata": {},
   "source": [
    "## 4 Выводы"
   ]
  },
  {
   "cell_type": "markdown",
   "id": "7bd434c3",
   "metadata": {},
   "source": [
    "- Количество книг вышедших после 1 января 2000: 821\n",
    "\n",
    "\n",
    "- Издательство выпустившее максимальное количество книг(от 50 страниц): Penguin Books, 42\n",
    "\n",
    "\n",
    "- Автор с самой высокой средней оценкой книг(c 50 и более оценками): J.K. Rowling/Mary GrandPré\t, 4.28\n",
    "\n",
    "\n",
    "- Среднее количество обзоров от пользователей, которые поставили больше 50 оценок: 24.22\n",
    "\n",
    "\n",
    "Количество отзывов:\n",
    "- Максимально: 7\n",
    "- Минимально: 0\n",
    "- Среднее количество отзывов на книгу: 2.8\n",
    "\n",
    "\n",
    "Рейтинг:\n",
    "- Максимальный: 5\n",
    "- Минимальный: 1.5\n",
    "- Средняя оценка книг: 3.9"
   ]
  }
 ],
 "metadata": {
  "ExecuteTimeLog": [
   {
    "duration": 58,
    "start_time": "2022-12-05T09:58:03.851Z"
   },
   {
    "duration": 41,
    "start_time": "2022-12-05T10:03:20.653Z"
   },
   {
    "duration": 58,
    "start_time": "2022-12-05T10:07:09.868Z"
   },
   {
    "duration": 567,
    "start_time": "2022-12-05T10:08:34.407Z"
   },
   {
    "duration": 9,
    "start_time": "2022-12-05T10:11:34.891Z"
   },
   {
    "duration": 615,
    "start_time": "2022-12-05T10:12:04.296Z"
   },
   {
    "duration": 7,
    "start_time": "2022-12-05T10:14:17.119Z"
   },
   {
    "duration": 3,
    "start_time": "2022-12-05T10:14:25.632Z"
   },
   {
    "duration": 4,
    "start_time": "2022-12-05T10:14:36.740Z"
   },
   {
    "duration": 4,
    "start_time": "2022-12-05T10:14:43.935Z"
   },
   {
    "duration": 4,
    "start_time": "2022-12-05T10:14:52.372Z"
   },
   {
    "duration": 5,
    "start_time": "2022-12-05T10:14:57.809Z"
   },
   {
    "duration": 5,
    "start_time": "2022-12-05T10:15:09.767Z"
   },
   {
    "duration": 6495,
    "start_time": "2022-12-05T10:25:06.070Z"
   },
   {
    "duration": 6,
    "start_time": "2022-12-05T10:26:21.286Z"
   },
   {
    "duration": 73,
    "start_time": "2022-12-05T10:28:44.562Z"
   },
   {
    "duration": 7,
    "start_time": "2022-12-05T10:29:33.377Z"
   },
   {
    "duration": 7014,
    "start_time": "2022-12-05T10:29:48.596Z"
   },
   {
    "duration": 75,
    "start_time": "2022-12-05T10:29:55.612Z"
   },
   {
    "duration": 0,
    "start_time": "2022-12-05T10:29:55.689Z"
   },
   {
    "duration": 143,
    "start_time": "2022-12-05T10:44:44.780Z"
   },
   {
    "duration": 4,
    "start_time": "2022-12-05T10:45:42.493Z"
   },
   {
    "duration": 380,
    "start_time": "2022-12-05T10:45:43.585Z"
   },
   {
    "duration": 3,
    "start_time": "2022-12-05T10:46:01.652Z"
   },
   {
    "duration": 117,
    "start_time": "2022-12-05T10:46:11.227Z"
   },
   {
    "duration": 120,
    "start_time": "2022-12-05T10:46:18.320Z"
   },
   {
    "duration": 3,
    "start_time": "2022-12-05T10:47:10.493Z"
   },
   {
    "duration": 202,
    "start_time": "2022-12-05T10:47:13.638Z"
   },
   {
    "duration": 3,
    "start_time": "2022-12-05T10:47:18.752Z"
   },
   {
    "duration": 146,
    "start_time": "2022-12-05T10:47:19.401Z"
   },
   {
    "duration": 2,
    "start_time": "2022-12-05T10:50:11.771Z"
   },
   {
    "duration": 82,
    "start_time": "2022-12-05T10:50:12.673Z"
   },
   {
    "duration": 3,
    "start_time": "2022-12-05T10:50:25.730Z"
   },
   {
    "duration": 92,
    "start_time": "2022-12-05T10:50:26.276Z"
   },
   {
    "duration": 3,
    "start_time": "2022-12-05T10:50:30.102Z"
   },
   {
    "duration": 89,
    "start_time": "2022-12-05T10:50:36.874Z"
   },
   {
    "duration": 80,
    "start_time": "2022-12-05T10:50:55.470Z"
   },
   {
    "duration": 84,
    "start_time": "2022-12-05T10:50:59.405Z"
   },
   {
    "duration": 142,
    "start_time": "2022-12-05T10:57:36.750Z"
   },
   {
    "duration": 130,
    "start_time": "2022-12-05T10:57:49.454Z"
   },
   {
    "duration": 163,
    "start_time": "2022-12-05T11:03:34.929Z"
   },
   {
    "duration": 365,
    "start_time": "2022-12-05T11:05:29.602Z"
   },
   {
    "duration": 105,
    "start_time": "2022-12-05T11:10:08.132Z"
   },
   {
    "duration": 103,
    "start_time": "2022-12-05T11:11:47.844Z"
   },
   {
    "duration": 103,
    "start_time": "2022-12-05T11:12:48.533Z"
   },
   {
    "duration": 104,
    "start_time": "2022-12-05T11:13:11.497Z"
   },
   {
    "duration": 138,
    "start_time": "2022-12-05T11:13:59.396Z"
   },
   {
    "duration": 116,
    "start_time": "2022-12-05T11:14:33.574Z"
   },
   {
    "duration": 106,
    "start_time": "2022-12-05T11:14:40.205Z"
   },
   {
    "duration": 107,
    "start_time": "2022-12-05T11:14:48.128Z"
   },
   {
    "duration": 143,
    "start_time": "2022-12-05T11:15:19.765Z"
   },
   {
    "duration": 110,
    "start_time": "2022-12-05T11:15:32.769Z"
   },
   {
    "duration": 99,
    "start_time": "2022-12-05T11:17:22.184Z"
   },
   {
    "duration": 104,
    "start_time": "2022-12-05T11:17:33.897Z"
   },
   {
    "duration": 126,
    "start_time": "2022-12-05T11:26:29.887Z"
   },
   {
    "duration": 150,
    "start_time": "2022-12-05T11:29:56.255Z"
   },
   {
    "duration": 128,
    "start_time": "2022-12-05T11:30:41.841Z"
   },
   {
    "duration": 81,
    "start_time": "2022-12-05T11:30:56.338Z"
   },
   {
    "duration": 81,
    "start_time": "2022-12-05T11:31:21.795Z"
   },
   {
    "duration": 80,
    "start_time": "2022-12-05T11:33:04.714Z"
   },
   {
    "duration": 128,
    "start_time": "2022-12-05T11:33:31.621Z"
   },
   {
    "duration": 135,
    "start_time": "2022-12-05T11:33:53.041Z"
   },
   {
    "duration": 83,
    "start_time": "2022-12-05T11:34:14.133Z"
   },
   {
    "duration": 83,
    "start_time": "2022-12-05T11:34:32.680Z"
   },
   {
    "duration": 92,
    "start_time": "2022-12-05T11:34:42.444Z"
   },
   {
    "duration": 127,
    "start_time": "2022-12-05T11:43:35.029Z"
   },
   {
    "duration": 97,
    "start_time": "2022-12-05T11:43:48.083Z"
   },
   {
    "duration": 133,
    "start_time": "2022-12-05T11:44:16.016Z"
   },
   {
    "duration": 107,
    "start_time": "2022-12-05T11:44:26.566Z"
   },
   {
    "duration": 143,
    "start_time": "2022-12-05T11:48:11.537Z"
   },
   {
    "duration": 142,
    "start_time": "2022-12-05T11:48:31.424Z"
   },
   {
    "duration": 84,
    "start_time": "2022-12-05T11:48:45.238Z"
   },
   {
    "duration": 83,
    "start_time": "2022-12-05T11:49:01.918Z"
   },
   {
    "duration": 83,
    "start_time": "2022-12-05T11:49:19.842Z"
   },
   {
    "duration": 663,
    "start_time": "2022-12-05T11:56:32.879Z"
   },
   {
    "duration": 131,
    "start_time": "2022-12-05T11:57:08.071Z"
   },
   {
    "duration": 132,
    "start_time": "2022-12-05T11:57:35.685Z"
   },
   {
    "duration": 185,
    "start_time": "2022-12-05T11:57:51.644Z"
   },
   {
    "duration": 745,
    "start_time": "2022-12-05T11:59:58.873Z"
   },
   {
    "duration": 655,
    "start_time": "2022-12-05T12:00:10.088Z"
   },
   {
    "duration": 143,
    "start_time": "2022-12-05T12:02:06.200Z"
   },
   {
    "duration": 653,
    "start_time": "2022-12-05T12:02:42.409Z"
   },
   {
    "duration": 150,
    "start_time": "2022-12-05T12:03:47.096Z"
   },
   {
    "duration": 146,
    "start_time": "2022-12-05T12:07:30.049Z"
   },
   {
    "duration": 81,
    "start_time": "2022-12-05T12:07:34.934Z"
   },
   {
    "duration": 85,
    "start_time": "2022-12-05T12:07:43.279Z"
   },
   {
    "duration": 80,
    "start_time": "2022-12-05T12:07:49.736Z"
   },
   {
    "duration": 134,
    "start_time": "2022-12-05T12:09:25.199Z"
   },
   {
    "duration": 80,
    "start_time": "2022-12-05T12:09:31.588Z"
   },
   {
    "duration": 121,
    "start_time": "2022-12-05T12:11:57.017Z"
   },
   {
    "duration": 131,
    "start_time": "2022-12-05T12:12:46.952Z"
   },
   {
    "duration": 133,
    "start_time": "2022-12-05T12:13:13.199Z"
   },
   {
    "duration": 160,
    "start_time": "2022-12-05T12:13:37.779Z"
   },
   {
    "duration": 161,
    "start_time": "2022-12-05T12:15:03.623Z"
   },
   {
    "duration": 95,
    "start_time": "2022-12-05T12:16:12.992Z"
   },
   {
    "duration": 92,
    "start_time": "2022-12-05T12:16:35.039Z"
   },
   {
    "duration": 135,
    "start_time": "2022-12-05T12:16:55.182Z"
   },
   {
    "duration": 100,
    "start_time": "2022-12-05T12:16:59.847Z"
   },
   {
    "duration": 127,
    "start_time": "2022-12-05T12:18:31.578Z"
   },
   {
    "duration": 79,
    "start_time": "2022-12-05T12:18:39.705Z"
   },
   {
    "duration": 132,
    "start_time": "2022-12-05T12:19:05.835Z"
   },
   {
    "duration": 125,
    "start_time": "2022-12-05T12:19:21.042Z"
   },
   {
    "duration": 135,
    "start_time": "2022-12-05T12:19:35.851Z"
   },
   {
    "duration": 77,
    "start_time": "2022-12-05T12:19:48.985Z"
   },
   {
    "duration": 79,
    "start_time": "2022-12-05T12:19:53.086Z"
   },
   {
    "duration": 129,
    "start_time": "2022-12-05T12:20:06.182Z"
   },
   {
    "duration": 134,
    "start_time": "2022-12-05T12:20:10.793Z"
   },
   {
    "duration": 171,
    "start_time": "2022-12-05T12:20:16.944Z"
   },
   {
    "duration": 79,
    "start_time": "2022-12-05T12:20:21.403Z"
   },
   {
    "duration": 133,
    "start_time": "2022-12-05T12:20:40.351Z"
   },
   {
    "duration": 78,
    "start_time": "2022-12-05T12:20:53.290Z"
   },
   {
    "duration": 78,
    "start_time": "2022-12-05T12:21:52.492Z"
   },
   {
    "duration": 78,
    "start_time": "2022-12-05T12:22:07.701Z"
   },
   {
    "duration": 5882,
    "start_time": "2022-12-05T12:25:50.840Z"
   },
   {
    "duration": 277,
    "start_time": "2022-12-05T12:25:56.724Z"
   },
   {
    "duration": 105,
    "start_time": "2022-12-05T12:25:57.003Z"
   },
   {
    "duration": 108,
    "start_time": "2022-12-05T12:25:57.111Z"
   },
   {
    "duration": 95,
    "start_time": "2022-12-05T12:25:57.221Z"
   },
   {
    "duration": 91,
    "start_time": "2022-12-05T12:25:57.318Z"
   },
   {
    "duration": 79,
    "start_time": "2022-12-05T12:25:57.411Z"
   },
   {
    "duration": 74,
    "start_time": "2022-12-05T12:25:57.492Z"
   },
   {
    "duration": 78,
    "start_time": "2022-12-05T12:25:57.568Z"
   },
   {
    "duration": 73,
    "start_time": "2022-12-05T12:25:57.648Z"
   },
   {
    "duration": 5353,
    "start_time": "2022-12-05T12:28:08.368Z"
   },
   {
    "duration": 258,
    "start_time": "2022-12-05T12:28:13.723Z"
   },
   {
    "duration": 93,
    "start_time": "2022-12-05T12:28:13.983Z"
   },
   {
    "duration": 75,
    "start_time": "2022-12-05T12:28:14.078Z"
   },
   {
    "duration": 77,
    "start_time": "2022-12-05T12:28:14.155Z"
   },
   {
    "duration": 76,
    "start_time": "2022-12-05T12:28:14.234Z"
   },
   {
    "duration": 85,
    "start_time": "2022-12-05T12:49:58.511Z"
   },
   {
    "duration": 85,
    "start_time": "2022-12-05T12:50:18.678Z"
   },
   {
    "duration": 88,
    "start_time": "2022-12-05T12:50:22.793Z"
   },
   {
    "duration": 201,
    "start_time": "2022-12-05T12:50:39.941Z"
   },
   {
    "duration": 73,
    "start_time": "2022-12-05T12:50:52.226Z"
   },
   {
    "duration": 87,
    "start_time": "2022-12-05T12:51:04.504Z"
   },
   {
    "duration": 72,
    "start_time": "2022-12-05T12:51:09.745Z"
   },
   {
    "duration": 91,
    "start_time": "2022-12-05T12:54:17.356Z"
   },
   {
    "duration": 86,
    "start_time": "2022-12-05T12:54:23.976Z"
   },
   {
    "duration": 74,
    "start_time": "2022-12-05T12:54:31.100Z"
   },
   {
    "duration": 85,
    "start_time": "2022-12-05T12:54:34.258Z"
   },
   {
    "duration": 85,
    "start_time": "2022-12-05T12:54:51.140Z"
   },
   {
    "duration": 109,
    "start_time": "2022-12-05T12:59:00.190Z"
   },
   {
    "duration": 79,
    "start_time": "2022-12-05T13:01:49.159Z"
   },
   {
    "duration": 76,
    "start_time": "2022-12-05T13:02:06.007Z"
   },
   {
    "duration": 154,
    "start_time": "2022-12-05T13:02:42.800Z"
   },
   {
    "duration": 77,
    "start_time": "2022-12-05T13:02:52.293Z"
   },
   {
    "duration": 161,
    "start_time": "2022-12-05T13:03:12.731Z"
   },
   {
    "duration": 77,
    "start_time": "2022-12-05T13:03:27.479Z"
   },
   {
    "duration": 78,
    "start_time": "2022-12-05T13:04:51.349Z"
   },
   {
    "duration": 92,
    "start_time": "2022-12-05T13:05:02.249Z"
   },
   {
    "duration": 170,
    "start_time": "2022-12-05T13:05:29.324Z"
   },
   {
    "duration": 75,
    "start_time": "2022-12-05T13:05:37.951Z"
   },
   {
    "duration": 125,
    "start_time": "2022-12-05T13:07:09.795Z"
   },
   {
    "duration": 79,
    "start_time": "2022-12-05T13:07:37.095Z"
   },
   {
    "duration": 175,
    "start_time": "2022-12-05T13:12:55.909Z"
   },
   {
    "duration": 110,
    "start_time": "2022-12-05T13:13:53.384Z"
   },
   {
    "duration": 79,
    "start_time": "2022-12-05T13:14:51.350Z"
   },
   {
    "duration": 125,
    "start_time": "2022-12-05T13:16:56.787Z"
   },
   {
    "duration": 75,
    "start_time": "2022-12-05T13:18:17.048Z"
   },
   {
    "duration": 77,
    "start_time": "2022-12-05T13:18:34.604Z"
   },
   {
    "duration": 75,
    "start_time": "2022-12-05T13:18:38.852Z"
   },
   {
    "duration": 114,
    "start_time": "2022-12-05T13:18:59.992Z"
   },
   {
    "duration": 147,
    "start_time": "2022-12-05T13:19:50.452Z"
   },
   {
    "duration": 78,
    "start_time": "2022-12-05T13:19:58.104Z"
   },
   {
    "duration": 174,
    "start_time": "2022-12-05T13:20:04.038Z"
   },
   {
    "duration": 87,
    "start_time": "2022-12-05T13:20:06.324Z"
   },
   {
    "duration": 78,
    "start_time": "2022-12-05T13:25:21.680Z"
   },
   {
    "duration": 80,
    "start_time": "2022-12-05T13:29:12.402Z"
   },
   {
    "duration": 78,
    "start_time": "2022-12-05T13:29:22.983Z"
   },
   {
    "duration": 83,
    "start_time": "2022-12-05T13:31:28.368Z"
   },
   {
    "duration": 76,
    "start_time": "2022-12-05T13:33:56.124Z"
   },
   {
    "duration": 78,
    "start_time": "2022-12-05T13:35:14.327Z"
   },
   {
    "duration": 77,
    "start_time": "2022-12-05T13:35:48.843Z"
   },
   {
    "duration": 134,
    "start_time": "2022-12-05T13:36:54.395Z"
   },
   {
    "duration": 77,
    "start_time": "2022-12-05T13:37:14.236Z"
   },
   {
    "duration": 126,
    "start_time": "2022-12-05T13:37:38.981Z"
   },
   {
    "duration": 129,
    "start_time": "2022-12-05T13:37:55.263Z"
   },
   {
    "duration": 79,
    "start_time": "2022-12-05T13:38:05.547Z"
   },
   {
    "duration": 9579,
    "start_time": "2022-12-07T13:03:38.097Z"
   },
   {
    "duration": 47,
    "start_time": "2022-12-07T13:03:47.678Z"
   },
   {
    "duration": 27,
    "start_time": "2022-12-07T13:03:47.726Z"
   },
   {
    "duration": 15,
    "start_time": "2022-12-07T13:03:47.755Z"
   },
   {
    "duration": 18,
    "start_time": "2022-12-07T13:03:47.772Z"
   },
   {
    "duration": 12,
    "start_time": "2022-12-07T13:03:47.792Z"
   },
   {
    "duration": 151,
    "start_time": "2022-12-07T13:05:53.550Z"
   },
   {
    "duration": 18,
    "start_time": "2022-12-07T13:06:14.546Z"
   },
   {
    "duration": 19,
    "start_time": "2022-12-07T13:08:25.237Z"
   },
   {
    "duration": 43,
    "start_time": "2022-12-08T12:33:22.241Z"
   },
   {
    "duration": 12930,
    "start_time": "2022-12-08T12:33:27.155Z"
   },
   {
    "duration": 62,
    "start_time": "2022-12-08T12:33:40.086Z"
   },
   {
    "duration": 207,
    "start_time": "2022-12-08T12:33:40.149Z"
   },
   {
    "duration": 24,
    "start_time": "2022-12-08T12:33:40.358Z"
   },
   {
    "duration": 18,
    "start_time": "2022-12-08T12:33:40.384Z"
   },
   {
    "duration": 15,
    "start_time": "2022-12-08T12:33:40.403Z"
   },
   {
    "duration": 29,
    "start_time": "2022-12-08T12:33:40.420Z"
   },
   {
    "duration": 36,
    "start_time": "2022-12-08T12:33:40.450Z"
   },
   {
    "duration": 41,
    "start_time": "2022-12-08T12:38:44.607Z"
   },
   {
    "duration": 60,
    "start_time": "2022-12-08T12:39:05.506Z"
   },
   {
    "duration": 36,
    "start_time": "2022-12-08T12:39:42.260Z"
   },
   {
    "duration": 37,
    "start_time": "2022-12-08T12:39:58.436Z"
   },
   {
    "duration": 211,
    "start_time": "2022-12-08T12:42:09.547Z"
   },
   {
    "duration": 36,
    "start_time": "2022-12-08T12:42:13.747Z"
   },
   {
    "duration": 31,
    "start_time": "2022-12-08T12:42:37.717Z"
   },
   {
    "duration": 35,
    "start_time": "2022-12-08T12:43:20.825Z"
   },
   {
    "duration": 10,
    "start_time": "2022-12-08T12:43:39.213Z"
   },
   {
    "duration": 18,
    "start_time": "2022-12-08T12:43:58.382Z"
   },
   {
    "duration": 17,
    "start_time": "2022-12-08T12:44:13.049Z"
   },
   {
    "duration": 43,
    "start_time": "2022-12-08T12:44:36.621Z"
   },
   {
    "duration": 41,
    "start_time": "2022-12-08T12:44:53.715Z"
   },
   {
    "duration": 34,
    "start_time": "2022-12-08T12:45:07.903Z"
   },
   {
    "duration": 37,
    "start_time": "2022-12-08T12:45:18.114Z"
   },
   {
    "duration": 33,
    "start_time": "2022-12-08T12:45:22.266Z"
   },
   {
    "duration": 25,
    "start_time": "2022-12-08T12:46:13.593Z"
   },
   {
    "duration": 33,
    "start_time": "2022-12-08T12:46:43.821Z"
   },
   {
    "duration": 32,
    "start_time": "2022-12-08T12:47:17.641Z"
   },
   {
    "duration": 31,
    "start_time": "2022-12-08T12:47:44.804Z"
   },
   {
    "duration": 142,
    "start_time": "2022-12-08T12:48:15.295Z"
   },
   {
    "duration": 25,
    "start_time": "2022-12-08T12:48:30.811Z"
   },
   {
    "duration": 25,
    "start_time": "2022-12-08T12:49:24.364Z"
   },
   {
    "duration": 33,
    "start_time": "2022-12-08T12:49:42.860Z"
   },
   {
    "duration": 26,
    "start_time": "2022-12-08T12:49:45.086Z"
   },
   {
    "duration": 14237,
    "start_time": "2022-12-08T12:50:22.667Z"
   },
   {
    "duration": 67,
    "start_time": "2022-12-08T12:50:36.906Z"
   },
   {
    "duration": 37,
    "start_time": "2022-12-08T12:50:36.974Z"
   },
   {
    "duration": 41,
    "start_time": "2022-12-08T12:50:37.013Z"
   },
   {
    "duration": 57,
    "start_time": "2022-12-08T12:50:37.055Z"
   },
   {
    "duration": 78,
    "start_time": "2022-12-08T12:50:37.114Z"
   },
   {
    "duration": 61,
    "start_time": "2022-12-08T12:50:37.194Z"
   },
   {
    "duration": 238,
    "start_time": "2022-12-08T12:50:55.121Z"
   },
   {
    "duration": 12,
    "start_time": "2022-12-08T12:51:04.968Z"
   },
   {
    "duration": 12,
    "start_time": "2022-12-08T12:51:09.708Z"
   },
   {
    "duration": 39,
    "start_time": "2022-12-08T12:51:22.141Z"
   },
   {
    "duration": 13703,
    "start_time": "2022-12-08T12:51:42.978Z"
   },
   {
    "duration": 53,
    "start_time": "2022-12-08T12:51:56.684Z"
   },
   {
    "duration": 32,
    "start_time": "2022-12-08T12:51:56.741Z"
   },
   {
    "duration": 24,
    "start_time": "2022-12-08T12:51:56.775Z"
   },
   {
    "duration": 11,
    "start_time": "2022-12-08T12:51:56.800Z"
   },
   {
    "duration": 17,
    "start_time": "2022-12-08T12:51:56.813Z"
   },
   {
    "duration": 21,
    "start_time": "2022-12-08T12:51:56.832Z"
   },
   {
    "duration": 5500,
    "start_time": "2022-12-09T08:56:42.573Z"
   },
   {
    "duration": 270,
    "start_time": "2022-12-09T08:56:48.075Z"
   },
   {
    "duration": 119,
    "start_time": "2022-12-09T08:56:48.347Z"
   },
   {
    "duration": 90,
    "start_time": "2022-12-09T08:56:48.469Z"
   },
   {
    "duration": 77,
    "start_time": "2022-12-09T08:56:48.561Z"
   },
   {
    "duration": 82,
    "start_time": "2022-12-09T08:56:48.640Z"
   },
   {
    "duration": 79,
    "start_time": "2022-12-09T08:56:48.724Z"
   },
   {
    "duration": 218,
    "start_time": "2022-12-09T08:57:27.409Z"
   },
   {
    "duration": 138,
    "start_time": "2022-12-09T08:57:36.262Z"
   },
   {
    "duration": 85,
    "start_time": "2022-12-09T08:59:38.356Z"
   },
   {
    "duration": 80,
    "start_time": "2022-12-09T09:00:06.867Z"
   },
   {
    "duration": 78,
    "start_time": "2022-12-09T09:01:24.648Z"
   },
   {
    "duration": 178,
    "start_time": "2022-12-09T09:03:13.581Z"
   },
   {
    "duration": 136,
    "start_time": "2022-12-09T09:03:21.097Z"
   },
   {
    "duration": 150,
    "start_time": "2022-12-09T09:05:07.265Z"
   },
   {
    "duration": 149,
    "start_time": "2022-12-09T09:05:13.003Z"
   },
   {
    "duration": 131,
    "start_time": "2022-12-09T09:05:26.697Z"
   },
   {
    "duration": 147,
    "start_time": "2022-12-09T09:06:36.251Z"
   },
   {
    "duration": 167,
    "start_time": "2022-12-09T09:06:54.904Z"
   },
   {
    "duration": 80,
    "start_time": "2022-12-09T09:07:19.372Z"
   },
   {
    "duration": 79,
    "start_time": "2022-12-09T09:07:43.849Z"
   }
  ],
  "kernelspec": {
   "display_name": "Python 3 (ipykernel)",
   "language": "python",
   "name": "python3"
  },
  "language_info": {
   "codemirror_mode": {
    "name": "ipython",
    "version": 3
   },
   "file_extension": ".py",
   "mimetype": "text/x-python",
   "name": "python",
   "nbconvert_exporter": "python",
   "pygments_lexer": "ipython3",
   "version": "3.9.5"
  },
  "toc": {
   "base_numbering": 1,
   "nav_menu": {},
   "number_sections": false,
   "sideBar": true,
   "skip_h1_title": true,
   "title_cell": "Оглавление",
   "title_sidebar": "Contents",
   "toc_cell": true,
   "toc_position": {
    "height": "calc(100% - 180px)",
    "left": "10px",
    "top": "150px",
    "width": "384px"
   },
   "toc_section_display": true,
   "toc_window_display": true
  }
 },
 "nbformat": 4,
 "nbformat_minor": 5
}
